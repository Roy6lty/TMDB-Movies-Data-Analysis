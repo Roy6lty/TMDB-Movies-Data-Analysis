{
 "cells": [
  {
   "cell_type": "markdown",
   "id": "88cc2bb6",
   "metadata": {},
   "source": [
    "\n",
    "\n",
    "\n",
    "\n",
    "# Project: Investigate a Dataset - [TMDb movie data]\n",
    "\n",
    "Table of Contents <br>\n",
    "Introduction<br>\n",
    "Data Wrangling<br>\n",
    "Exploratory Data Analysis<br>\n",
    "Conclusions<br>"
   ]
  },
  {
   "cell_type": "markdown",
   "id": "895417d6",
   "metadata": {},
   "source": [
    "## Introduction\n",
    "\n",
    ">TMDb (an abbreviation of Internet Movie Database) is an online database of information related to films, television series, home videos, video games, and streaming content online – including cast, production crew and personal biographies, plot summaries, trivia, ratings, and fan and critical reviews. \n",
    "\n",
    "## Data Set\n",
    ">This data set contains information about 10,000 movies collected from The Movie Database (TMDb), including user ratings and revenue."
   ]
  },
  {
   "cell_type": "markdown",
   "id": "9b066dc3",
   "metadata": {},
   "source": [
    "## Reserch Questions\n",
    "\n",
    "1. What is the Average budget cost for a movie from 1970 - 2020 and has there been an upward trend\n",
    "2. Does the budget of a movie have effects on other variables as revenue, popularity, and actors\n",
    "\n",
    "\n"
   ]
  },
  {
   "cell_type": "code",
   "execution_count": 2,
   "id": "37b8d448",
   "metadata": {
    "ExecuteTime": {
     "end_time": "2022-10-26T20:10:59.162095Z",
     "start_time": "2022-10-26T20:10:58.892093Z"
    }
   },
   "outputs": [
    {
     "name": "stderr",
     "output_type": "stream",
     "text": [
      "C:\\Users\\hp\\AppData\\Local\\Temp\\ipykernel_10184\\4277356696.py:11: MatplotlibDeprecationWarning: The seaborn styles shipped by Matplotlib are deprecated since 3.6, as they no longer correspond to the styles shipped by seaborn. However, they will remain available as 'seaborn-v0_8-<style>'. Alternatively, directly use the seaborn API instead.\n",
      "  plt.style.use('seaborn')\n"
     ]
    }
   ],
   "source": [
    "# Importing the The required Modules\n",
    "import pandas as pd\n",
    "import numpy as np\n",
    "from matplotlib import pyplot as plt\n",
    "import seaborn as sns\n",
    "from matplotlib import dates as dtt\n",
    "from datetime import datetime, timedelta\n",
    "from scipy import stats\n",
    "# import statsmodels.graphics.api as smg\n",
    "# import statsmodels.api as sm\n",
    "plt.style.use('seaborn')\n",
    "%matplotlib inline"
   ]
  },
  {
   "cell_type": "code",
   "execution_count": 3,
   "id": "d3b54cdd",
   "metadata": {
    "ExecuteTime": {
     "end_time": "2022-10-26T20:11:00.612006Z",
     "start_time": "2022-10-26T20:10:59.167077Z"
    },
    "scrolled": true
   },
   "outputs": [
    {
     "data": {
      "text/html": [
       "<div>\n",
       "<style scoped>\n",
       "    .dataframe tbody tr th:only-of-type {\n",
       "        vertical-align: middle;\n",
       "    }\n",
       "\n",
       "    .dataframe tbody tr th {\n",
       "        vertical-align: top;\n",
       "    }\n",
       "\n",
       "    .dataframe thead th {\n",
       "        text-align: right;\n",
       "    }\n",
       "</style>\n",
       "<table border=\"1\" class=\"dataframe\">\n",
       "  <thead>\n",
       "    <tr style=\"text-align: right;\">\n",
       "      <th></th>\n",
       "      <th>id</th>\n",
       "      <th>imdb_id</th>\n",
       "      <th>popularity</th>\n",
       "      <th>budget</th>\n",
       "      <th>revenue</th>\n",
       "      <th>original_title</th>\n",
       "      <th>cast</th>\n",
       "      <th>homepage</th>\n",
       "      <th>director</th>\n",
       "      <th>tagline</th>\n",
       "      <th>keywords</th>\n",
       "      <th>overview</th>\n",
       "      <th>runtime</th>\n",
       "      <th>genres</th>\n",
       "      <th>production_companies</th>\n",
       "      <th>release_date</th>\n",
       "      <th>vote_count</th>\n",
       "      <th>vote_average</th>\n",
       "      <th>release_year</th>\n",
       "      <th>budget_adj</th>\n",
       "      <th>revenue_adj</th>\n",
       "    </tr>\n",
       "  </thead>\n",
       "  <tbody>\n",
       "    <tr>\n",
       "      <th>0</th>\n",
       "      <td>135397</td>\n",
       "      <td>tt0369610</td>\n",
       "      <td>32.985763</td>\n",
       "      <td>150000000</td>\n",
       "      <td>1513528810</td>\n",
       "      <td>Jurassic World</td>\n",
       "      <td>Chris Pratt|Bryce Dallas Howard|Irrfan Khan|Vi...</td>\n",
       "      <td>http://www.jurassicworld.com/</td>\n",
       "      <td>Colin Trevorrow</td>\n",
       "      <td>The park is open.</td>\n",
       "      <td>monster|dna|tyrannosaurus rex|velociraptor|island</td>\n",
       "      <td>Twenty-two years after the events of Jurassic ...</td>\n",
       "      <td>124</td>\n",
       "      <td>Action|Adventure|Science Fiction|Thriller</td>\n",
       "      <td>Universal Studios|Amblin Entertainment|Legenda...</td>\n",
       "      <td>2015-06-09</td>\n",
       "      <td>5562</td>\n",
       "      <td>6.5</td>\n",
       "      <td>2015-01-01</td>\n",
       "      <td>1.379999e+08</td>\n",
       "      <td>1.392446e+09</td>\n",
       "    </tr>\n",
       "    <tr>\n",
       "      <th>1</th>\n",
       "      <td>76341</td>\n",
       "      <td>tt1392190</td>\n",
       "      <td>28.419936</td>\n",
       "      <td>150000000</td>\n",
       "      <td>378436354</td>\n",
       "      <td>Mad Max: Fury Road</td>\n",
       "      <td>Tom Hardy|Charlize Theron|Hugh Keays-Byrne|Nic...</td>\n",
       "      <td>http://www.madmaxmovie.com/</td>\n",
       "      <td>George Miller</td>\n",
       "      <td>What a Lovely Day.</td>\n",
       "      <td>future|chase|post-apocalyptic|dystopia|australia</td>\n",
       "      <td>An apocalyptic story set in the furthest reach...</td>\n",
       "      <td>120</td>\n",
       "      <td>Action|Adventure|Science Fiction|Thriller</td>\n",
       "      <td>Village Roadshow Pictures|Kennedy Miller Produ...</td>\n",
       "      <td>2015-05-13</td>\n",
       "      <td>6185</td>\n",
       "      <td>7.1</td>\n",
       "      <td>2015-01-01</td>\n",
       "      <td>1.379999e+08</td>\n",
       "      <td>3.481613e+08</td>\n",
       "    </tr>\n",
       "    <tr>\n",
       "      <th>2</th>\n",
       "      <td>262500</td>\n",
       "      <td>tt2908446</td>\n",
       "      <td>13.112507</td>\n",
       "      <td>110000000</td>\n",
       "      <td>295238201</td>\n",
       "      <td>Insurgent</td>\n",
       "      <td>Shailene Woodley|Theo James|Kate Winslet|Ansel...</td>\n",
       "      <td>http://www.thedivergentseries.movie/#insurgent</td>\n",
       "      <td>Robert Schwentke</td>\n",
       "      <td>One Choice Can Destroy You</td>\n",
       "      <td>based on novel|revolution|dystopia|sequel|dyst...</td>\n",
       "      <td>Beatrice Prior must confront her inner demons ...</td>\n",
       "      <td>119</td>\n",
       "      <td>Adventure|Science Fiction|Thriller</td>\n",
       "      <td>Summit Entertainment|Mandeville Films|Red Wago...</td>\n",
       "      <td>2015-03-18</td>\n",
       "      <td>2480</td>\n",
       "      <td>6.3</td>\n",
       "      <td>2015-01-01</td>\n",
       "      <td>1.012000e+08</td>\n",
       "      <td>2.716190e+08</td>\n",
       "    </tr>\n",
       "  </tbody>\n",
       "</table>\n",
       "</div>"
      ],
      "text/plain": [
       "       id    imdb_id  popularity     budget     revenue      original_title  \\\n",
       "0  135397  tt0369610   32.985763  150000000  1513528810      Jurassic World   \n",
       "1   76341  tt1392190   28.419936  150000000   378436354  Mad Max: Fury Road   \n",
       "2  262500  tt2908446   13.112507  110000000   295238201           Insurgent   \n",
       "\n",
       "                                                cast  \\\n",
       "0  Chris Pratt|Bryce Dallas Howard|Irrfan Khan|Vi...   \n",
       "1  Tom Hardy|Charlize Theron|Hugh Keays-Byrne|Nic...   \n",
       "2  Shailene Woodley|Theo James|Kate Winslet|Ansel...   \n",
       "\n",
       "                                         homepage          director  \\\n",
       "0                   http://www.jurassicworld.com/   Colin Trevorrow   \n",
       "1                     http://www.madmaxmovie.com/     George Miller   \n",
       "2  http://www.thedivergentseries.movie/#insurgent  Robert Schwentke   \n",
       "\n",
       "                      tagline  \\\n",
       "0           The park is open.   \n",
       "1          What a Lovely Day.   \n",
       "2  One Choice Can Destroy You   \n",
       "\n",
       "                                            keywords  \\\n",
       "0  monster|dna|tyrannosaurus rex|velociraptor|island   \n",
       "1   future|chase|post-apocalyptic|dystopia|australia   \n",
       "2  based on novel|revolution|dystopia|sequel|dyst...   \n",
       "\n",
       "                                            overview  runtime  \\\n",
       "0  Twenty-two years after the events of Jurassic ...      124   \n",
       "1  An apocalyptic story set in the furthest reach...      120   \n",
       "2  Beatrice Prior must confront her inner demons ...      119   \n",
       "\n",
       "                                      genres  \\\n",
       "0  Action|Adventure|Science Fiction|Thriller   \n",
       "1  Action|Adventure|Science Fiction|Thriller   \n",
       "2         Adventure|Science Fiction|Thriller   \n",
       "\n",
       "                                production_companies release_date  vote_count  \\\n",
       "0  Universal Studios|Amblin Entertainment|Legenda...   2015-06-09        5562   \n",
       "1  Village Roadshow Pictures|Kennedy Miller Produ...   2015-05-13        6185   \n",
       "2  Summit Entertainment|Mandeville Films|Red Wago...   2015-03-18        2480   \n",
       "\n",
       "   vote_average release_year    budget_adj   revenue_adj  \n",
       "0           6.5   2015-01-01  1.379999e+08  1.392446e+09  \n",
       "1           7.1   2015-01-01  1.379999e+08  3.481613e+08  \n",
       "2           6.3   2015-01-01  1.012000e+08  2.716190e+08  "
      ]
     },
     "execution_count": 3,
     "metadata": {},
     "output_type": "execute_result"
    }
   ],
   "source": [
    "#  Importing the Dataset \n",
    "df_movies = pd.read_csv(\"C:/Users/hp/Downloads/tmdb-movies.csv\"\n",
    "                        ,parse_dates = ['release_date','release_year'])\n",
    "\n",
    "#setting the maxium number of columns\n",
    "pd.set_option('display.max_columns' ,100)\n",
    "\n",
    "df_movies.head(3)"
   ]
  },
  {
   "cell_type": "markdown",
   "id": "af4e9f10",
   "metadata": {},
   "source": [
    "# Data Wranging\n",
    "\n",
    "## Searching for missing values\n",
    "\n",
    ">Missing values are reperesented differently for different coloumns across different data sets. \n",
    "The Tmdb data set has its empty values represented as null values \n",
    "Because most columns are independent of one another, New_data frames will be generated as required for each investigaton"
   ]
  },
  {
   "cell_type": "code",
   "execution_count": 4,
   "id": "c41acb12",
   "metadata": {
    "ExecuteTime": {
     "end_time": "2022-10-26T20:11:00.676985Z",
     "start_time": "2022-10-26T20:11:00.616989Z"
    }
   },
   "outputs": [
    {
     "name": "stdout",
     "output_type": "stream",
     "text": [
      "<class 'pandas.core.frame.DataFrame'>\n",
      "RangeIndex: 10866 entries, 0 to 10865\n",
      "Data columns (total 21 columns):\n",
      " #   Column                Non-Null Count  Dtype         \n",
      "---  ------                --------------  -----         \n",
      " 0   id                    10866 non-null  int64         \n",
      " 1   imdb_id               10856 non-null  object        \n",
      " 2   popularity            10866 non-null  float64       \n",
      " 3   budget                10866 non-null  int64         \n",
      " 4   revenue               10866 non-null  int64         \n",
      " 5   original_title        10866 non-null  object        \n",
      " 6   cast                  10790 non-null  object        \n",
      " 7   homepage              2936 non-null   object        \n",
      " 8   director              10822 non-null  object        \n",
      " 9   tagline               8042 non-null   object        \n",
      " 10  keywords              9373 non-null   object        \n",
      " 11  overview              10862 non-null  object        \n",
      " 12  runtime               10866 non-null  int64         \n",
      " 13  genres                10843 non-null  object        \n",
      " 14  production_companies  9836 non-null   object        \n",
      " 15  release_date          10866 non-null  datetime64[ns]\n",
      " 16  vote_count            10866 non-null  int64         \n",
      " 17  vote_average          10866 non-null  float64       \n",
      " 18  release_year          10866 non-null  datetime64[ns]\n",
      " 19  budget_adj            10866 non-null  float64       \n",
      " 20  revenue_adj           10866 non-null  float64       \n",
      "dtypes: datetime64[ns](2), float64(4), int64(5), object(10)\n",
      "memory usage: 1.7+ MB\n"
     ]
    }
   ],
   "source": [
    "df_movies.info()"
   ]
  },
  {
   "cell_type": "markdown",
   "id": "229b29c1",
   "metadata": {},
   "source": [
    "The 'Id' and imdb_id Columns are not required for the analysis of the data as Pandas generates an index"
   ]
  },
  {
   "cell_type": "code",
   "execution_count": 5,
   "id": "4d522c38",
   "metadata": {
    "ExecuteTime": {
     "end_time": "2022-10-26T20:11:00.811976Z",
     "start_time": "2022-10-26T20:11:00.696984Z"
    }
   },
   "outputs": [],
   "source": [
    "#-- Droping the 'id' and 'Imdb' id columns from the dataframe\n",
    "#droping the homepage coloumn as its not required for this analysis session\n",
    "df_movies.drop(columns= ['id','imdb_id'],inplace = True)"
   ]
  },
  {
   "cell_type": "code",
   "execution_count": 6,
   "id": "cd2c03f5",
   "metadata": {
    "ExecuteTime": {
     "end_time": "2022-10-26T20:11:00.926976Z",
     "start_time": "2022-10-26T20:11:00.821976Z"
    }
   },
   "outputs": [
    {
     "data": {
      "text/plain": [
       "popularity                 0\n",
       "budget                     0\n",
       "revenue                    0\n",
       "original_title             0\n",
       "cast                      76\n",
       "homepage                7930\n",
       "director                  44\n",
       "tagline                 2824\n",
       "keywords                1493\n",
       "overview                   4\n",
       "runtime                    0\n",
       "genres                    23\n",
       "production_companies    1030\n",
       "release_date               0\n",
       "vote_count                 0\n",
       "vote_average               0\n",
       "release_year               0\n",
       "budget_adj                 0\n",
       "revenue_adj                0\n",
       "dtype: int64"
      ]
     },
     "execution_count": 6,
     "metadata": {},
     "output_type": "execute_result"
    }
   ],
   "source": [
    "# Checking for null values \n",
    "df_movies.isna().sum()"
   ]
  },
  {
   "cell_type": "code",
   "execution_count": 7,
   "id": "a1f8a676",
   "metadata": {
    "ExecuteTime": {
     "end_time": "2022-10-26T20:11:01.006973Z",
     "start_time": "2022-10-26T20:11:00.931970Z"
    }
   },
   "outputs": [],
   "source": [
    "#--First we Clean the dataframe called df\n",
    "#--This is copy of the original dataframe df_movies\n",
    "df_budget = df_movies.copy()"
   ]
  },
  {
   "cell_type": "markdown",
   "id": "e49387aa",
   "metadata": {},
   "source": [
    "Movies can have budgets and revenues value of zero, this is possible as movies can make losses and earn no revenue and also movies can be made without a budget and make some revenue, for consistency rows where budget and revenue are reported as zero wil be dropped as they are no relevant to this analysis"
   ]
  },
  {
   "cell_type": "code",
   "execution_count": 8,
   "id": "ef709889",
   "metadata": {
    "ExecuteTime": {
     "end_time": "2022-10-26T20:11:01.096960Z",
     "start_time": "2022-10-26T20:11:01.011965Z"
    }
   },
   "outputs": [
    {
     "data": {
      "text/plain": [
       "0"
      ]
     },
     "execution_count": 8,
     "metadata": {},
     "output_type": "execute_result"
    }
   ],
   "source": [
    "#--check the dataset columns for null values\n",
    "df_budget['budget'].isna().sum()"
   ]
  },
  {
   "cell_type": "code",
   "execution_count": 9,
   "id": "e60d8a98",
   "metadata": {
    "ExecuteTime": {
     "end_time": "2022-10-26T20:11:01.246952Z",
     "start_time": "2022-10-26T20:11:01.101959Z"
    }
   },
   "outputs": [
    {
     "data": {
      "text/plain": [
       "0"
      ]
     },
     "execution_count": 9,
     "metadata": {},
     "output_type": "execute_result"
    }
   ],
   "source": [
    "df_budget['revenue'].isna().sum()"
   ]
  },
  {
   "cell_type": "code",
   "execution_count": 10,
   "id": "eb21e435",
   "metadata": {
    "ExecuteTime": {
     "end_time": "2022-10-26T20:11:01.471959Z",
     "start_time": "2022-10-26T20:11:01.251964Z"
    }
   },
   "outputs": [],
   "source": [
    "#-- Drop the rows where budget and revenue columns are zero\n",
    "_c =(df_budget.revenue == 0) & (df_budget.budget == 0)\n",
    "df_budget[_c].head(2)\n",
    "df_budget.drop(index = df_budget[_c].index, inplace = True)"
   ]
  },
  {
   "cell_type": "code",
   "execution_count": 11,
   "id": "773d7c14",
   "metadata": {
    "ExecuteTime": {
     "end_time": "2022-10-26T20:11:01.581940Z",
     "start_time": "2022-10-26T20:11:01.481939Z"
    }
   },
   "outputs": [],
   "source": [
    "#-- Sorting index by the release date column\n",
    "df_budget= df_budget.sort_values(by = 'release_date',ascending = False)\n",
    "\n",
    "#-- Setting the maximum number of rows viewed at ato 100\n",
    "pd.set_option('display.max_rows' ,100)"
   ]
  },
  {
   "cell_type": "code",
   "execution_count": 12,
   "id": "28598c64",
   "metadata": {
    "ExecuteTime": {
     "end_time": "2022-10-26T20:11:01.776937Z",
     "start_time": "2022-10-26T20:11:01.586934Z"
    },
    "scrolled": true
   },
   "outputs": [],
   "source": [
    "#Creating a Groupby object for Dates in the dataset\n",
    "# Group by year\n",
    "#_mn is a group by object\n",
    "_mn = df_budget.groupby(df_budget['release_date'].dt.year)"
   ]
  },
  {
   "cell_type": "code",
   "execution_count": 13,
   "id": "681d56ab",
   "metadata": {
    "ExecuteTime": {
     "end_time": "2022-10-26T20:11:02.011924Z",
     "start_time": "2022-10-26T20:11:01.781919Z"
    }
   },
   "outputs": [
    {
     "data": {
      "text/plain": [
       "0"
      ]
     },
     "execution_count": 13,
     "metadata": {},
     "output_type": "execute_result"
    }
   ],
   "source": [
    "#checking for Dulpcates\n",
    "df_budget.duplicated().isna().sum()"
   ]
  },
  {
   "cell_type": "markdown",
   "id": "58af7465",
   "metadata": {},
   "source": [
    ">The dataset has in the release year column values missing from 2020 to 2050"
   ]
  },
  {
   "cell_type": "code",
   "execution_count": 14,
   "id": "14c817e0",
   "metadata": {
    "ExecuteTime": {
     "end_time": "2022-10-26T20:11:02.141896Z",
     "start_time": "2022-10-26T20:11:02.016905Z"
    }
   },
   "outputs": [
    {
     "data": {
      "text/html": [
       "<div>\n",
       "<style scoped>\n",
       "    .dataframe tbody tr th:only-of-type {\n",
       "        vertical-align: middle;\n",
       "    }\n",
       "\n",
       "    .dataframe tbody tr th {\n",
       "        vertical-align: top;\n",
       "    }\n",
       "\n",
       "    .dataframe thead th {\n",
       "        text-align: right;\n",
       "    }\n",
       "</style>\n",
       "<table border=\"1\" class=\"dataframe\">\n",
       "  <thead>\n",
       "    <tr style=\"text-align: right;\">\n",
       "      <th></th>\n",
       "      <th>popularity</th>\n",
       "      <th>budget</th>\n",
       "      <th>revenue</th>\n",
       "      <th>original_title</th>\n",
       "      <th>cast</th>\n",
       "      <th>homepage</th>\n",
       "      <th>director</th>\n",
       "      <th>tagline</th>\n",
       "      <th>keywords</th>\n",
       "      <th>overview</th>\n",
       "      <th>runtime</th>\n",
       "      <th>genres</th>\n",
       "      <th>production_companies</th>\n",
       "      <th>release_date</th>\n",
       "      <th>vote_count</th>\n",
       "      <th>vote_average</th>\n",
       "      <th>release_year</th>\n",
       "      <th>budget_adj</th>\n",
       "      <th>revenue_adj</th>\n",
       "    </tr>\n",
       "  </thead>\n",
       "  <tbody>\n",
       "    <tr>\n",
       "      <th>144</th>\n",
       "      <td>1.125239</td>\n",
       "      <td>8000000</td>\n",
       "      <td>3759286</td>\n",
       "      <td>Anomalisa</td>\n",
       "      <td>Jennifer Jason Leigh|David Thewlis|Tom Noonan</td>\n",
       "      <td>http://www.anomalisa.com/</td>\n",
       "      <td>Duke Johnson|Charlie Kaufman</td>\n",
       "      <td>NaN</td>\n",
       "      <td>sex|depression|existentialism</td>\n",
       "      <td>A man crippled by the mundanity of his life ex...</td>\n",
       "      <td>90</td>\n",
       "      <td>Animation|Comedy|Drama|Romance</td>\n",
       "      <td>Starburns Industries</td>\n",
       "      <td>2015-12-30</td>\n",
       "      <td>259</td>\n",
       "      <td>6.7</td>\n",
       "      <td>2015-01-01</td>\n",
       "      <td>7.359997e+06</td>\n",
       "      <td>3.458542e+06</td>\n",
       "    </tr>\n",
       "    <tr>\n",
       "      <th>15</th>\n",
       "      <td>5.898400</td>\n",
       "      <td>44000000</td>\n",
       "      <td>155760117</td>\n",
       "      <td>The Hateful Eight</td>\n",
       "      <td>Samuel L. Jackson|Kurt Russell|Jennifer Jason ...</td>\n",
       "      <td>http://thehatefuleight.com/</td>\n",
       "      <td>Quentin Tarantino</td>\n",
       "      <td>No one comes up here without a damn good reason.</td>\n",
       "      <td>bounty hunter|wyoming|mountains|hangman|voice ...</td>\n",
       "      <td>Bounty hunters seek shelter from a raging bliz...</td>\n",
       "      <td>167</td>\n",
       "      <td>Crime|Drama|Mystery|Western</td>\n",
       "      <td>Double Feature Films|The Weinstein Company|Fil...</td>\n",
       "      <td>2015-12-25</td>\n",
       "      <td>2389</td>\n",
       "      <td>7.4</td>\n",
       "      <td>2015-01-01</td>\n",
       "      <td>4.047998e+07</td>\n",
       "      <td>1.432992e+08</td>\n",
       "    </tr>\n",
       "  </tbody>\n",
       "</table>\n",
       "</div>"
      ],
      "text/plain": [
       "     popularity    budget    revenue     original_title  \\\n",
       "144    1.125239   8000000    3759286          Anomalisa   \n",
       "15     5.898400  44000000  155760117  The Hateful Eight   \n",
       "\n",
       "                                                  cast  \\\n",
       "144      Jennifer Jason Leigh|David Thewlis|Tom Noonan   \n",
       "15   Samuel L. Jackson|Kurt Russell|Jennifer Jason ...   \n",
       "\n",
       "                        homepage                      director  \\\n",
       "144    http://www.anomalisa.com/  Duke Johnson|Charlie Kaufman   \n",
       "15   http://thehatefuleight.com/             Quentin Tarantino   \n",
       "\n",
       "                                              tagline  \\\n",
       "144                                               NaN   \n",
       "15   No one comes up here without a damn good reason.   \n",
       "\n",
       "                                              keywords  \\\n",
       "144                      sex|depression|existentialism   \n",
       "15   bounty hunter|wyoming|mountains|hangman|voice ...   \n",
       "\n",
       "                                              overview  runtime  \\\n",
       "144  A man crippled by the mundanity of his life ex...       90   \n",
       "15   Bounty hunters seek shelter from a raging bliz...      167   \n",
       "\n",
       "                             genres  \\\n",
       "144  Animation|Comedy|Drama|Romance   \n",
       "15      Crime|Drama|Mystery|Western   \n",
       "\n",
       "                                  production_companies release_date  \\\n",
       "144                               Starburns Industries   2015-12-30   \n",
       "15   Double Feature Films|The Weinstein Company|Fil...   2015-12-25   \n",
       "\n",
       "     vote_count  vote_average release_year    budget_adj   revenue_adj  \n",
       "144         259           6.7   2015-01-01  7.359997e+06  3.458542e+06  \n",
       "15         2389           7.4   2015-01-01  4.047998e+07  1.432992e+08  "
      ]
     },
     "execution_count": 14,
     "metadata": {},
     "output_type": "execute_result"
    }
   ],
   "source": [
    "#Create a Filter for the range of dates\n",
    "#from 1970 to 2021\n",
    "df_budget[(df_budget['release_date'] > '1970-12-31') & (df_budget['release_date'] < '2021-1-1')].head(2)"
   ]
  },
  {
   "cell_type": "markdown",
   "id": "1de1c265",
   "metadata": {},
   "source": [
    "# Data Analysis\n",
    "\n",
    ">The Analysis Involves taking the average of the Budget cartegory at 5 year intervals of a period of 50 years from 1970 to 2020\n",
    "and this will be used to analyze its corolation with time"
   ]
  },
  {
   "cell_type": "markdown",
   "id": "b4f79e72",
   "metadata": {},
   "source": [
    ">Analyazing the Budget and revenue column "
   ]
  },
  {
   "cell_type": "code",
   "execution_count": 15,
   "id": "6adaa367",
   "metadata": {
    "ExecuteTime": {
     "end_time": "2022-10-26T20:11:02.716864Z",
     "start_time": "2022-10-26T20:11:02.146908Z"
    }
   },
   "outputs": [
    {
     "data": {
      "text/html": [
       "<style type=\"text/css\">\n",
       "</style>\n",
       "<table id=\"T_56493\">\n",
       "  <thead>\n",
       "    <tr>\n",
       "      <th class=\"blank level0\" >&nbsp;</th>\n",
       "      <th id=\"T_56493_level0_col0\" class=\"col_heading level0 col0\" >budget</th>\n",
       "    </tr>\n",
       "  </thead>\n",
       "  <tbody>\n",
       "    <tr>\n",
       "      <th id=\"T_56493_level0_row0\" class=\"row_heading level0 row0\" >count</th>\n",
       "      <td id=\"T_56493_row0_col0\" class=\"data row0 col0\" >6,165</td>\n",
       "    </tr>\n",
       "    <tr>\n",
       "      <th id=\"T_56493_level0_row1\" class=\"row_heading level0 row1\" >mean</th>\n",
       "      <td id=\"T_56493_row1_col0\" class=\"data row1 col0\" >25,778,243</td>\n",
       "    </tr>\n",
       "    <tr>\n",
       "      <th id=\"T_56493_level0_row2\" class=\"row_heading level0 row2\" >std</th>\n",
       "      <td id=\"T_56493_row2_col0\" class=\"data row2 col0\" >37,375,124</td>\n",
       "    </tr>\n",
       "    <tr>\n",
       "      <th id=\"T_56493_level0_row3\" class=\"row_heading level0 row3\" >min</th>\n",
       "      <td id=\"T_56493_row3_col0\" class=\"data row3 col0\" >0</td>\n",
       "    </tr>\n",
       "    <tr>\n",
       "      <th id=\"T_56493_level0_row4\" class=\"row_heading level0 row4\" >25%</th>\n",
       "      <td id=\"T_56493_row4_col0\" class=\"data row4 col0\" >1,700,000</td>\n",
       "    </tr>\n",
       "    <tr>\n",
       "      <th id=\"T_56493_level0_row5\" class=\"row_heading level0 row5\" >50%</th>\n",
       "      <td id=\"T_56493_row5_col0\" class=\"data row5 col0\" >12,000,000</td>\n",
       "    </tr>\n",
       "    <tr>\n",
       "      <th id=\"T_56493_level0_row6\" class=\"row_heading level0 row6\" >75%</th>\n",
       "      <td id=\"T_56493_row6_col0\" class=\"data row6 col0\" >33,000,000</td>\n",
       "    </tr>\n",
       "    <tr>\n",
       "      <th id=\"T_56493_level0_row7\" class=\"row_heading level0 row7\" >max</th>\n",
       "      <td id=\"T_56493_row7_col0\" class=\"data row7 col0\" >425,000,000</td>\n",
       "    </tr>\n",
       "  </tbody>\n",
       "</table>\n"
      ],
      "text/plain": [
       "<pandas.io.formats.style.Styler at 0x2068febab80>"
      ]
     },
     "execution_count": 15,
     "metadata": {},
     "output_type": "execute_result"
    }
   ],
   "source": [
    "#Creating a list of budget values\n",
    "pd.DataFrame(df_budget.budget.describe()).style.format('{0:,.0f}')"
   ]
  },
  {
   "cell_type": "code",
   "execution_count": 16,
   "id": "62ec10ce",
   "metadata": {
    "ExecuteTime": {
     "end_time": "2022-10-26T20:11:02.746862Z",
     "start_time": "2022-10-26T20:11:02.721862Z"
    }
   },
   "outputs": [],
   "source": [
    "def format_number1(data_value,idx):\n",
    "    '''\n",
    "    This Function takes a list of int or float values with high\n",
    "    exponential and converts them to string forrmat\n",
    "    example 1,000,000 to 1M , where 'M' is millon \n",
    "    '''\n",
    "    \n",
    "    if  (data_value >= 1000000.00) & (data_value < 1000000000.00):\n",
    "        formatter = '{:.1f}M'.format(data_value*0.000001)\n",
    "        return formatter\n",
    "    elif (data_value >= 1000.00) & (data_value < 1_000_000.00):\n",
    "        formatter = '{:.1f}K'.format(data_value*0.001)\n",
    "        return formatter\n",
    "    elif data_value == 0:\n",
    "        formatter = 0\n",
    "        return formatter\n",
    "    else: pass\n",
    "        \n",
    "        "
   ]
  },
  {
   "cell_type": "code",
   "execution_count": 17,
   "id": "f6d65ffb",
   "metadata": {
    "ExecuteTime": {
     "end_time": "2022-10-26T20:11:03.341824Z",
     "start_time": "2022-10-26T20:11:02.751861Z"
    }
   },
   "outputs": [
    {
     "name": "stdout",
     "output_type": "stream",
     "text": [
      "skewness =  2.8316009872695145\n"
     ]
    },
    {
     "data": {
      "text/html": [
       "<style type=\"text/css\">\n",
       "</style>\n",
       "<table id=\"T_f1ac9\">\n",
       "  <thead>\n",
       "    <tr>\n",
       "      <th class=\"blank level0\" >&nbsp;</th>\n",
       "      <th id=\"T_f1ac9_level0_col0\" class=\"col_heading level0 col0\" >budget</th>\n",
       "    </tr>\n",
       "  </thead>\n",
       "  <tbody>\n",
       "    <tr>\n",
       "      <th id=\"T_f1ac9_level0_row0\" class=\"row_heading level0 row0\" >count</th>\n",
       "      <td id=\"T_f1ac9_row0_col0\" class=\"data row0 col0\" >6,165</td>\n",
       "    </tr>\n",
       "    <tr>\n",
       "      <th id=\"T_f1ac9_level0_row1\" class=\"row_heading level0 row1\" >mean</th>\n",
       "      <td id=\"T_f1ac9_row1_col0\" class=\"data row1 col0\" >25,778,243</td>\n",
       "    </tr>\n",
       "    <tr>\n",
       "      <th id=\"T_f1ac9_level0_row2\" class=\"row_heading level0 row2\" >std</th>\n",
       "      <td id=\"T_f1ac9_row2_col0\" class=\"data row2 col0\" >37,375,124</td>\n",
       "    </tr>\n",
       "    <tr>\n",
       "      <th id=\"T_f1ac9_level0_row3\" class=\"row_heading level0 row3\" >min</th>\n",
       "      <td id=\"T_f1ac9_row3_col0\" class=\"data row3 col0\" >0</td>\n",
       "    </tr>\n",
       "    <tr>\n",
       "      <th id=\"T_f1ac9_level0_row4\" class=\"row_heading level0 row4\" >25%</th>\n",
       "      <td id=\"T_f1ac9_row4_col0\" class=\"data row4 col0\" >1,700,000</td>\n",
       "    </tr>\n",
       "    <tr>\n",
       "      <th id=\"T_f1ac9_level0_row5\" class=\"row_heading level0 row5\" >50%</th>\n",
       "      <td id=\"T_f1ac9_row5_col0\" class=\"data row5 col0\" >12,000,000</td>\n",
       "    </tr>\n",
       "    <tr>\n",
       "      <th id=\"T_f1ac9_level0_row6\" class=\"row_heading level0 row6\" >75%</th>\n",
       "      <td id=\"T_f1ac9_row6_col0\" class=\"data row6 col0\" >33,000,000</td>\n",
       "    </tr>\n",
       "    <tr>\n",
       "      <th id=\"T_f1ac9_level0_row7\" class=\"row_heading level0 row7\" >max</th>\n",
       "      <td id=\"T_f1ac9_row7_col0\" class=\"data row7 col0\" >425,000,000</td>\n",
       "    </tr>\n",
       "  </tbody>\n",
       "</table>\n"
      ],
      "text/plain": [
       "<pandas.io.formats.style.Styler at 0x20691464ca0>"
      ]
     },
     "execution_count": 17,
     "metadata": {},
     "output_type": "execute_result"
    },
    {
     "data": {
      "image/png": "[encoded data removed]",
      "text/plain": [
       "<Figure size 800x550 with 1 Axes>"
      ]
     },
     "metadata": {},
     "output_type": "display_data"
    },
    {
     "data": {
      "text/plain": [
       "<Figure size 1400x1000 with 0 Axes>"
      ]
     },
     "metadata": {},
     "output_type": "display_data"
    }
   ],
   "source": [
    "fig, ax = plt.subplots();\n",
    "\n",
    "ax.xaxis.set_major_formatter(\n",
    "    plt.FuncFormatter(format_number1)); #setting the format for t\n",
    "\n",
    "plt.figure(figsize = [14,10]); #figure size\n",
    "\n",
    "ax.hist(df_budget['budget'], color = '#C7EA46');\n",
    "\n",
    "ax.axvline(df_budget['budget'].mean(),    # plotting the mean line\n",
    "           color = 'red', linestyle = '--', linewidth = 1);\n",
    "\n",
    "ax.axvline(df_budget['budget'].median(), # plotting the median line\n",
    "           color = 'green', linestyle = '--', linewidth = 1);\n",
    "\n",
    "ax.text(df_budget['budget'].mean(),4550,     #postions and cordinates\n",
    "        'Mean:{:,.1f}'.format(df_budget['budget'].mean()));\n",
    "\n",
    "ax.text(df_budget['budget'].median(),3800, #postions and cordinates\n",
    "        'Median:{:,.1f}'.format(df_budget['budget'].median()));\n",
    "\n",
    "print('skewness = ',df_budget['budget'].skew())\n",
    "pd.DataFrame(df_budget['budget'].describe()).style.format('{0:,.0f}')"
   ]
  },
  {
   "cell_type": "markdown",
   "id": "4e004582",
   "metadata": {},
   "source": [
    "The Data is skewed to the right with 75% of movies with budget less than 40 millon and the maximunm budget of a movie within this period is 425 millon"
   ]
  },
  {
   "cell_type": "code",
   "execution_count": 18,
   "id": "0123c3ab",
   "metadata": {
    "ExecuteTime": {
     "end_time": "2022-10-26T20:11:03.661807Z",
     "start_time": "2022-10-26T20:11:03.346833Z"
    }
   },
   "outputs": [
    {
     "data": {
      "text/html": [
       "<style type=\"text/css\">\n",
       "</style>\n",
       "<table id=\"T_8d2c3\">\n",
       "  <thead>\n",
       "    <tr>\n",
       "      <th class=\"blank level0\" >&nbsp;</th>\n",
       "      <th id=\"T_8d2c3_level0_col0\" class=\"col_heading level0 col0\" >budget</th>\n",
       "    </tr>\n",
       "  </thead>\n",
       "  <tbody>\n",
       "    <tr>\n",
       "      <th id=\"T_8d2c3_level0_row0\" class=\"row_heading level0 row0\" >count</th>\n",
       "      <td id=\"T_8d2c3_row0_col0\" class=\"data row0 col0\" >6,165</td>\n",
       "    </tr>\n",
       "    <tr>\n",
       "      <th id=\"T_8d2c3_level0_row1\" class=\"row_heading level0 row1\" >mean</th>\n",
       "      <td id=\"T_8d2c3_row1_col0\" class=\"data row1 col0\" >25,778,243</td>\n",
       "    </tr>\n",
       "    <tr>\n",
       "      <th id=\"T_8d2c3_level0_row2\" class=\"row_heading level0 row2\" >std</th>\n",
       "      <td id=\"T_8d2c3_row2_col0\" class=\"data row2 col0\" >37,375,124</td>\n",
       "    </tr>\n",
       "    <tr>\n",
       "      <th id=\"T_8d2c3_level0_row3\" class=\"row_heading level0 row3\" >min</th>\n",
       "      <td id=\"T_8d2c3_row3_col0\" class=\"data row3 col0\" >0</td>\n",
       "    </tr>\n",
       "    <tr>\n",
       "      <th id=\"T_8d2c3_level0_row4\" class=\"row_heading level0 row4\" >25%</th>\n",
       "      <td id=\"T_8d2c3_row4_col0\" class=\"data row4 col0\" >1,700,000</td>\n",
       "    </tr>\n",
       "    <tr>\n",
       "      <th id=\"T_8d2c3_level0_row5\" class=\"row_heading level0 row5\" >50%</th>\n",
       "      <td id=\"T_8d2c3_row5_col0\" class=\"data row5 col0\" >12,000,000</td>\n",
       "    </tr>\n",
       "    <tr>\n",
       "      <th id=\"T_8d2c3_level0_row6\" class=\"row_heading level0 row6\" >75%</th>\n",
       "      <td id=\"T_8d2c3_row6_col0\" class=\"data row6 col0\" >33,000,000</td>\n",
       "    </tr>\n",
       "    <tr>\n",
       "      <th id=\"T_8d2c3_level0_row7\" class=\"row_heading level0 row7\" >max</th>\n",
       "      <td id=\"T_8d2c3_row7_col0\" class=\"data row7 col0\" >425,000,000</td>\n",
       "    </tr>\n",
       "  </tbody>\n",
       "</table>\n"
      ],
      "text/plain": [
       "<pandas.io.formats.style.Styler at 0x20691ee4fa0>"
      ]
     },
     "execution_count": 18,
     "metadata": {},
     "output_type": "execute_result"
    },
    {
     "data": {
      "image/png": "[encoded data removed]",
      "text/plain": [
       "<Figure size 800x550 with 1 Axes>"
      ]
     },
     "metadata": {},
     "output_type": "display_data"
    },
    {
     "data": {
      "text/plain": [
       "<Figure size 1000x800 with 0 Axes>"
      ]
     },
     "metadata": {},
     "output_type": "display_data"
    }
   ],
   "source": [
    "fig, ax = plt.subplots();\n",
    "\n",
    "ax.yaxis.set_major_formatter(\n",
    "    plt.FuncFormatter(format_number1));\n",
    "\n",
    "plt.figure(figsize = [10,8]);\n",
    "\n",
    "ax.boxplot(df_budget['budget']);\n",
    "\n",
    "pd.DataFrame(\n",
    "    df_budget['budget'].describe()).style.format('{0:,.0f}')\n"
   ]
  },
  {
   "cell_type": "markdown",
   "id": "704aa4ee",
   "metadata": {},
   "source": [
    "The Box plots shows the mean as indicated by the blue line, and also alot of outliers"
   ]
  },
  {
   "cell_type": "code",
   "execution_count": 19,
   "id": "24f99153",
   "metadata": {
    "ExecuteTime": {
     "end_time": "2022-10-26T20:11:04.296777Z",
     "start_time": "2022-10-26T20:11:03.666805Z"
    }
   },
   "outputs": [
    {
     "data": {
      "image/png": "[encoded data removed]",
      "text/plain": [
       "<Figure size 800x550 with 1 Axes>"
      ]
     },
     "metadata": {},
     "output_type": "display_data"
    }
   ],
   "source": [
    "labels = ['min','25%','50%', '75%']  \n",
    "_x = pd.cut(df_budget['budget'],4,  \n",
    "            labels = labels,\n",
    "            include_lowest = True, retbins = True)\n",
    "\n",
    "df_f1 = pd.DataFrame(_x[0])\n",
    "\n",
    "df_f1.value_counts().plot(kind = 'bar',  color = '#C7EA46')\n",
    "\n",
    "df_f1 = pd.DataFrame(df_budget.value_counts())\n",
    "df_f1.reset_index(inplace = True)\n",
    "\n",
    "df_f1.rename(columns ={0: 'counts'}, inplace =True)\n"
   ]
  },
  {
   "cell_type": "markdown",
   "id": "be2cfde2",
   "metadata": {},
   "source": [
    "> The budget is skewed to the right with majority of values being below 25%. The mean is not a proper represetative of the budget as 4903 movies fall below 25th perecentile 244 movie budget fall below the 50th percentile. The median is a better representaive of the data"
   ]
  },
  {
   "cell_type": "code",
   "execution_count": 20,
   "id": "c290ff72",
   "metadata": {
    "ExecuteTime": {
     "end_time": "2022-10-26T20:11:04.821739Z",
     "start_time": "2022-10-26T20:11:04.301767Z"
    }
   },
   "outputs": [
    {
     "data": {
      "text/html": [
       "<style type=\"text/css\">\n",
       "</style>\n",
       "<table id=\"T_2b5db\">\n",
       "  <thead>\n",
       "    <tr>\n",
       "      <th class=\"blank level0\" >&nbsp;</th>\n",
       "      <th id=\"T_2b5db_level0_col0\" class=\"col_heading level0 col0\" >revenue</th>\n",
       "    </tr>\n",
       "  </thead>\n",
       "  <tbody>\n",
       "    <tr>\n",
       "      <th id=\"T_2b5db_level0_row0\" class=\"row_heading level0 row0\" >count</th>\n",
       "      <td id=\"T_2b5db_row0_col0\" class=\"data row0 col0\" >6,165</td>\n",
       "    </tr>\n",
       "    <tr>\n",
       "      <th id=\"T_2b5db_level0_row1\" class=\"row_heading level0 row1\" >mean</th>\n",
       "      <td id=\"T_2b5db_row1_col0\" class=\"data row1 col0\" >70,189,812</td>\n",
       "    </tr>\n",
       "    <tr>\n",
       "      <th id=\"T_2b5db_level0_row2\" class=\"row_heading level0 row2\" >std</th>\n",
       "      <td id=\"T_2b5db_row2_col0\" class=\"data row2 col0\" >148,319,406</td>\n",
       "    </tr>\n",
       "    <tr>\n",
       "      <th id=\"T_2b5db_level0_row3\" class=\"row_heading level0 row3\" >min</th>\n",
       "      <td id=\"T_2b5db_row3_col0\" class=\"data row3 col0\" >0</td>\n",
       "    </tr>\n",
       "    <tr>\n",
       "      <th id=\"T_2b5db_level0_row4\" class=\"row_heading level0 row4\" >25%</th>\n",
       "      <td id=\"T_2b5db_row4_col0\" class=\"data row4 col0\" >118,483</td>\n",
       "    </tr>\n",
       "    <tr>\n",
       "      <th id=\"T_2b5db_level0_row5\" class=\"row_heading level0 row5\" >50%</th>\n",
       "      <td id=\"T_2b5db_row5_col0\" class=\"data row5 col0\" >16,549,477</td>\n",
       "    </tr>\n",
       "    <tr>\n",
       "      <th id=\"T_2b5db_level0_row6\" class=\"row_heading level0 row6\" >75%</th>\n",
       "      <td id=\"T_2b5db_row6_col0\" class=\"data row6 col0\" >71,441,250</td>\n",
       "    </tr>\n",
       "    <tr>\n",
       "      <th id=\"T_2b5db_level0_row7\" class=\"row_heading level0 row7\" >max</th>\n",
       "      <td id=\"T_2b5db_row7_col0\" class=\"data row7 col0\" >2,781,505,847</td>\n",
       "    </tr>\n",
       "  </tbody>\n",
       "</table>\n"
      ],
      "text/plain": [
       "<pandas.io.formats.style.Styler at 0x20691ed3a60>"
      ]
     },
     "execution_count": 20,
     "metadata": {},
     "output_type": "execute_result"
    },
    {
     "data": {
      "image/png": "[encoded data removed]",
      "text/plain": [
       "<Figure size 800x550 with 1 Axes>"
      ]
     },
     "metadata": {},
     "output_type": "display_data"
    }
   ],
   "source": [
    "#plotting the revenue over the budget\n",
    "fig, ax = plt.subplots()\n",
    "ax.hist( df_budget['revenue'], label = 'revenue')\n",
    "ax.xaxis.set_major_formatter(\n",
    "    plt.FuncFormatter(format_number1));\n",
    "\n",
    "ax.legend()\n",
    "\n",
    "pd.DataFrame(df_budget['revenue'].describe()).style.format('{0:,.0f}')"
   ]
  },
  {
   "cell_type": "markdown",
   "id": "4bcdaada",
   "metadata": {},
   "source": [
    "The revenue data is also skewed with the 75 percentile at 71 million and te max value being at 2 billon"
   ]
  },
  {
   "cell_type": "code",
   "execution_count": 21,
   "id": "e1646a29",
   "metadata": {
    "ExecuteTime": {
     "end_time": "2022-10-26T20:11:04.851740Z",
     "start_time": "2022-10-26T20:11:04.826734Z"
    }
   },
   "outputs": [],
   "source": [
    "#making the release_date the index of the dataframe\n",
    "df_budget.set_index('release_date', inplace = True)\n"
   ]
  },
  {
   "cell_type": "code",
   "execution_count": 22,
   "id": "19a635dd",
   "metadata": {
    "ExecuteTime": {
     "end_time": "2022-10-26T20:11:05.141721Z",
     "start_time": "2022-10-26T20:11:04.856735Z"
    }
   },
   "outputs": [
    {
     "name": "stderr",
     "output_type": "stream",
     "text": [
      "C:\\Users\\hp\\AppData\\Local\\Temp\\ipykernel_10184\\2116951105.py:4: UserWarning: Parsing dates in DD/MM/YYYY format when dayfirst=False (the default) was specified. This may lead to inconsistently parsed dates! Specify a format to ensure consistent parsing.\n",
      "  _AT = pd.date_range(start = '1/1/1970',end = '31/1/2020' , normalize = True, freq = '5y')\n",
      "C:\\Users\\hp\\AppData\\Local\\Temp\\ipykernel_10184\\2116951105.py:6: UserWarning: Parsing dates in DD/MM/YYYY format when dayfirst=False (the default) was specified. This may lead to inconsistently parsed dates! Specify a format to ensure consistent parsing.\n",
      "  _BT = pd.date_range(start = '1/1/1974', end = '31/12/2020',freq ='5y', normalize = True)\n"
     ]
    },
    {
     "data": {
      "text/plain": [
       "(DatetimeIndex(['1970-12-31', '1975-12-31', '1980-12-31', '1985-12-31',\n",
       "                '1990-12-31', '1995-12-31', '2000-12-31', '2005-12-31',\n",
       "                '2010-12-31', '2015-12-31'],\n",
       "               dtype='datetime64[ns]', freq='5A-DEC'),\n",
       " DatetimeIndex(['1974-12-31', '1979-12-31', '1984-12-31', '1989-12-31',\n",
       "                '1994-12-31', '1999-12-31', '2004-12-31', '2009-12-31',\n",
       "                '2014-12-31', '2019-12-31'],\n",
       "               dtype='datetime64[ns]', freq='5A-DEC'))"
      ]
     },
     "execution_count": 22,
     "metadata": {},
     "output_type": "execute_result"
    }
   ],
   "source": [
    "#Creating search date ranges for slicing the date_release index\n",
    "# generating dates at 5 year intervals\n",
    "\n",
    "_AT = pd.date_range(start = '1/1/1970',end = '31/1/2020' , normalize = True, freq = '5y') \n",
    "\n",
    "_BT = pd.date_range(start = '1/1/1974', end = '31/12/2020',freq ='5y', normalize = True)\n",
    "\n",
    "_AT, _BT"
   ]
  },
  {
   "cell_type": "markdown",
   "id": "b52c766c",
   "metadata": {},
   "source": [
    "> Datetime format is represented as strings in index slicing , so casting the datetime list to Strings to slice date range"
   ]
  },
  {
   "cell_type": "code",
   "execution_count": 23,
   "id": "b93d6c3d",
   "metadata": {
    "ExecuteTime": {
     "end_time": "2022-10-26T20:11:05.171723Z",
     "start_time": "2022-10-26T20:11:05.146723Z"
    }
   },
   "outputs": [],
   "source": [
    "#for Slicing time index the data type has to be string\n",
    "#convert to Strings\n",
    "A = _AT.astype(str)\n",
    "B = _BT.astype(str)\n"
   ]
  },
  {
   "cell_type": "markdown",
   "id": "ef31cbb7",
   "metadata": {},
   "source": [
    ">Using the for loops to loop through seach indexs at 5year intervals and computing the mean"
   ]
  },
  {
   "cell_type": "code",
   "execution_count": 24,
   "id": "7f53ae0d",
   "metadata": {
    "ExecuteTime": {
     "end_time": "2022-10-26T20:11:05.476699Z",
     "start_time": "2022-10-26T20:11:05.181715Z"
    },
    "scrolled": true
   },
   "outputs": [
    {
     "name": "stderr",
     "output_type": "stream",
     "text": [
      "C:\\Users\\hp\\AppData\\Local\\Temp\\ipykernel_10184\\1170274870.py:4: FutureWarning: Value based partial slicing on non-monotonic DatetimeIndexes with non-existing keys is deprecated and will raise a KeyError in a future Version.\n",
      "  ilist = df_budget[A[i]:B[i]]['budget'].mean()\n",
      "C:\\Users\\hp\\AppData\\Local\\Temp\\ipykernel_10184\\1170274870.py:9: FutureWarning: Value based partial slicing on non-monotonic DatetimeIndexes with non-existing keys is deprecated and will raise a KeyError in a future Version.\n",
      "  ilist = df_budget[A[i]:B[i]]['revenue'].mean()\n"
     ]
    }
   ],
   "source": [
    "# A & B are time slices\n",
    "budget_list = []    #List to Hold the mean Values\n",
    "for i in range(10): \n",
    "    ilist = df_budget[A[i]:B[i]]['budget'].mean()\n",
    "    budget_list.append(ilist) #get the mean budget for a certain time period\n",
    "             \n",
    "revenue_list = []    #List to Hold the mean Values\n",
    "for i in range(10): \n",
    "    ilist = df_budget[A[i]:B[i]]['revenue'].mean()\n",
    "    revenue_list.append(ilist) #get the mean budget for a certain time period\n",
    "             "
   ]
  },
  {
   "cell_type": "markdown",
   "id": "0e76c222",
   "metadata": {},
   "source": [
    "Time Range\n",
    "> The range of Dates from 1970 t0 2015 with 5 year intervals the average of movie budget spend across each interval is caluculated and plotted against time, were no entries from 2020 to 2060.  "
   ]
  },
  {
   "cell_type": "code",
   "execution_count": 25,
   "id": "62785673",
   "metadata": {
    "ExecuteTime": {
     "end_time": "2022-10-26T20:11:05.506716Z",
     "start_time": "2022-10-26T20:11:05.481714Z"
    }
   },
   "outputs": [],
   "source": [
    "_D = {\n",
    "    'Dates': _AT,\n",
    "    'Average_mean' : budget_list,\n",
    "    'Average_revenue': revenue_list\n",
    "    }\n",
    "df_average = pd.DataFrame(_D)"
   ]
  },
  {
   "cell_type": "markdown",
   "id": "1c7cd42b",
   "metadata": {},
   "source": [
    "> The appliction of the fuction to generate a list of corresponding values for the Y axis of the data plot"
   ]
  },
  {
   "cell_type": "code",
   "execution_count": 26,
   "id": "7c03bfad",
   "metadata": {
    "ExecuteTime": {
     "end_time": "2022-10-26T20:11:06.186654Z",
     "start_time": "2022-10-26T20:11:05.511695Z"
    },
    "scrolled": true
   },
   "outputs": [
    {
     "data": {
      "text/html": [
       "<style type=\"text/css\">\n",
       "</style>\n",
       "<table id=\"T_17e9b\">\n",
       "  <thead>\n",
       "    <tr>\n",
       "      <th class=\"blank level0\" >&nbsp;</th>\n",
       "      <th id=\"T_17e9b_level0_col0\" class=\"col_heading level0 col0\" >Dates</th>\n",
       "      <th id=\"T_17e9b_level0_col1\" class=\"col_heading level0 col1\" >Average_mean</th>\n",
       "      <th id=\"T_17e9b_level0_col2\" class=\"col_heading level0 col2\" >Average_revenue</th>\n",
       "    </tr>\n",
       "  </thead>\n",
       "  <tbody>\n",
       "    <tr>\n",
       "      <th id=\"T_17e9b_level0_row0\" class=\"row_heading level0 row0\" >0</th>\n",
       "      <td id=\"T_17e9b_row0_col0\" class=\"data row0 col0\" >1970-12-31 00:00:00</td>\n",
       "      <td id=\"T_17e9b_row0_col1\" class=\"data row0 col1\" >2,663,284</td>\n",
       "      <td id=\"T_17e9b_row0_col2\" class=\"data row0 col2\" >37,779,867</td>\n",
       "    </tr>\n",
       "    <tr>\n",
       "      <th id=\"T_17e9b_level0_row1\" class=\"row_heading level0 row1\" >1</th>\n",
       "      <td id=\"T_17e9b_row1_col0\" class=\"data row1 col0\" >1975-12-31 00:00:00</td>\n",
       "      <td id=\"T_17e9b_row1_col1\" class=\"data row1 col1\" >6,281,857</td>\n",
       "      <td id=\"T_17e9b_row1_col2\" class=\"data row1 col2\" >50,724,062</td>\n",
       "    </tr>\n",
       "    <tr>\n",
       "      <th id=\"T_17e9b_level0_row2\" class=\"row_heading level0 row2\" >2</th>\n",
       "      <td id=\"T_17e9b_row2_col0\" class=\"data row2 col0\" >1980-12-31 00:00:00</td>\n",
       "      <td id=\"T_17e9b_row2_col1\" class=\"data row2 col1\" >9,074,327</td>\n",
       "      <td id=\"T_17e9b_row2_col2\" class=\"data row2 col2\" >40,423,365</td>\n",
       "    </tr>\n",
       "    <tr>\n",
       "      <th id=\"T_17e9b_level0_row3\" class=\"row_heading level0 row3\" >3</th>\n",
       "      <td id=\"T_17e9b_row3_col0\" class=\"data row3 col0\" >1985-12-31 00:00:00</td>\n",
       "      <td id=\"T_17e9b_row3_col1\" class=\"data row3 col1\" >9,685,535</td>\n",
       "      <td id=\"T_17e9b_row3_col2\" class=\"data row3 col2\" >43,539,257</td>\n",
       "    </tr>\n",
       "    <tr>\n",
       "      <th id=\"T_17e9b_level0_row4\" class=\"row_heading level0 row4\" >4</th>\n",
       "      <td id=\"T_17e9b_row4_col0\" class=\"data row4 col0\" >1990-12-31 00:00:00</td>\n",
       "      <td id=\"T_17e9b_row4_col1\" class=\"data row4 col1\" >16,870,327</td>\n",
       "      <td id=\"T_17e9b_row4_col2\" class=\"data row4 col2\" >60,573,984</td>\n",
       "    </tr>\n",
       "    <tr>\n",
       "      <th id=\"T_17e9b_level0_row5\" class=\"row_heading level0 row5\" >5</th>\n",
       "      <td id=\"T_17e9b_row5_col0\" class=\"data row5 col0\" >1995-12-31 00:00:00</td>\n",
       "      <td id=\"T_17e9b_row5_col1\" class=\"data row5 col1\" >34,317,475</td>\n",
       "      <td id=\"T_17e9b_row5_col2\" class=\"data row5 col2\" >73,056,061</td>\n",
       "    </tr>\n",
       "    <tr>\n",
       "      <th id=\"T_17e9b_level0_row6\" class=\"row_heading level0 row6\" >6</th>\n",
       "      <td id=\"T_17e9b_row6_col0\" class=\"data row6 col0\" >2000-12-31 00:00:00</td>\n",
       "      <td id=\"T_17e9b_row6_col1\" class=\"data row6 col1\" >35,689,245</td>\n",
       "      <td id=\"T_17e9b_row6_col2\" class=\"data row6 col2\" >85,816,549</td>\n",
       "    </tr>\n",
       "    <tr>\n",
       "      <th id=\"T_17e9b_level0_row7\" class=\"row_heading level0 row7\" >7</th>\n",
       "      <td id=\"T_17e9b_row7_col0\" class=\"data row7 col0\" >2005-12-31 00:00:00</td>\n",
       "      <td id=\"T_17e9b_row7_col1\" class=\"data row7 col1\" >29,797,432</td>\n",
       "      <td id=\"T_17e9b_row7_col2\" class=\"data row7 col2\" >73,548,310</td>\n",
       "    </tr>\n",
       "    <tr>\n",
       "      <th id=\"T_17e9b_level0_row8\" class=\"row_heading level0 row8\" >8</th>\n",
       "      <td id=\"T_17e9b_row8_col0\" class=\"data row8 col0\" >2010-12-31 00:00:00</td>\n",
       "      <td id=\"T_17e9b_row8_col1\" class=\"data row8 col1\" >27,563,813</td>\n",
       "      <td id=\"T_17e9b_row8_col2\" class=\"data row8 col2\" >77,919,043</td>\n",
       "    </tr>\n",
       "    <tr>\n",
       "      <th id=\"T_17e9b_level0_row9\" class=\"row_heading level0 row9\" >9</th>\n",
       "      <td id=\"T_17e9b_row9_col0\" class=\"data row9 col0\" >2015-12-31 00:00:00</td>\n",
       "      <td id=\"T_17e9b_row9_col1\" class=\"data row9 col1\" >nan</td>\n",
       "      <td id=\"T_17e9b_row9_col2\" class=\"data row9 col2\" >nan</td>\n",
       "    </tr>\n",
       "  </tbody>\n",
       "</table>\n"
      ],
      "text/plain": [
       "<pandas.io.formats.style.Styler at 0x206915e1dc0>"
      ]
     },
     "execution_count": 26,
     "metadata": {},
     "output_type": "execute_result"
    },
    {
     "data": {
      "image/png": "[encoded data removed]",
      "text/plain": [
       "<Figure size 800x550 with 1 Axes>"
      ]
     },
     "metadata": {},
     "output_type": "display_data"
    }
   ],
   "source": [
    "##ploting the time series data\n",
    "#creating plot obeject from matplotlib\n",
    "\n",
    "fig, ax = plt.subplots();\n",
    "ax.plot(_AT, budget_list, marker = '.');\n",
    "ax.plot(_AT, revenue_list, marker = '.');\n",
    "\n",
    "ax.yaxis.set_major_formatter(\n",
    "    plt.FuncFormatter(format_number1));\n",
    "\n",
    "ax.set_xlabel('Dates');\n",
    "ax.set_ylabel('Budget');\n",
    "ax.set_title('Average Budget and Revenue');\n",
    "plt.xticks(rotation = 70);\n",
    "df_average.style.format({'Average_mean':'{0:,.0f}','Average_revenue':'{0:,.0f}'})\n"
   ]
  },
  {
   "cell_type": "markdown",
   "id": "9051dd74",
   "metadata": {},
   "source": [
    "There is an upward trend in average movies over the time period of 1970 - 2010, with a very high value in the period of 2000 - 2005 where the average budget was over 38 millon."
   ]
  },
  {
   "cell_type": "code",
   "execution_count": 27,
   "id": "f99ba74a",
   "metadata": {
    "ExecuteTime": {
     "end_time": "2022-10-26T20:11:07.866552Z",
     "start_time": "2022-10-26T20:11:06.191654Z"
    }
   },
   "outputs": [
    {
     "data": {
      "text/html": [
       "<style type=\"text/css\">\n",
       "</style>\n",
       "<table id=\"T_db8a5\">\n",
       "  <thead>\n",
       "    <tr>\n",
       "      <th class=\"blank level0\" >&nbsp;</th>\n",
       "      <th id=\"T_db8a5_level0_col0\" class=\"col_heading level0 col0\" >Dates</th>\n",
       "      <th id=\"T_db8a5_level0_col1\" class=\"col_heading level0 col1\" >Average_mean</th>\n",
       "      <th id=\"T_db8a5_level0_col2\" class=\"col_heading level0 col2\" >Average_revenue</th>\n",
       "    </tr>\n",
       "  </thead>\n",
       "  <tbody>\n",
       "    <tr>\n",
       "      <th id=\"T_db8a5_level0_row0\" class=\"row_heading level0 row0\" >0</th>\n",
       "      <td id=\"T_db8a5_row0_col0\" class=\"data row0 col0\" >1970-12-31 00:00:00</td>\n",
       "      <td id=\"T_db8a5_row0_col1\" class=\"data row0 col1\" >2,663,284</td>\n",
       "      <td id=\"T_db8a5_row0_col2\" class=\"data row0 col2\" >37,779,867</td>\n",
       "    </tr>\n",
       "    <tr>\n",
       "      <th id=\"T_db8a5_level0_row1\" class=\"row_heading level0 row1\" >1</th>\n",
       "      <td id=\"T_db8a5_row1_col0\" class=\"data row1 col0\" >1975-12-31 00:00:00</td>\n",
       "      <td id=\"T_db8a5_row1_col1\" class=\"data row1 col1\" >6,281,857</td>\n",
       "      <td id=\"T_db8a5_row1_col2\" class=\"data row1 col2\" >50,724,062</td>\n",
       "    </tr>\n",
       "    <tr>\n",
       "      <th id=\"T_db8a5_level0_row2\" class=\"row_heading level0 row2\" >2</th>\n",
       "      <td id=\"T_db8a5_row2_col0\" class=\"data row2 col0\" >1980-12-31 00:00:00</td>\n",
       "      <td id=\"T_db8a5_row2_col1\" class=\"data row2 col1\" >9,074,327</td>\n",
       "      <td id=\"T_db8a5_row2_col2\" class=\"data row2 col2\" >40,423,365</td>\n",
       "    </tr>\n",
       "    <tr>\n",
       "      <th id=\"T_db8a5_level0_row3\" class=\"row_heading level0 row3\" >3</th>\n",
       "      <td id=\"T_db8a5_row3_col0\" class=\"data row3 col0\" >1985-12-31 00:00:00</td>\n",
       "      <td id=\"T_db8a5_row3_col1\" class=\"data row3 col1\" >9,685,535</td>\n",
       "      <td id=\"T_db8a5_row3_col2\" class=\"data row3 col2\" >43,539,257</td>\n",
       "    </tr>\n",
       "    <tr>\n",
       "      <th id=\"T_db8a5_level0_row4\" class=\"row_heading level0 row4\" >4</th>\n",
       "      <td id=\"T_db8a5_row4_col0\" class=\"data row4 col0\" >1990-12-31 00:00:00</td>\n",
       "      <td id=\"T_db8a5_row4_col1\" class=\"data row4 col1\" >16,870,327</td>\n",
       "      <td id=\"T_db8a5_row4_col2\" class=\"data row4 col2\" >60,573,984</td>\n",
       "    </tr>\n",
       "    <tr>\n",
       "      <th id=\"T_db8a5_level0_row5\" class=\"row_heading level0 row5\" >5</th>\n",
       "      <td id=\"T_db8a5_row5_col0\" class=\"data row5 col0\" >1995-12-31 00:00:00</td>\n",
       "      <td id=\"T_db8a5_row5_col1\" class=\"data row5 col1\" >34,317,475</td>\n",
       "      <td id=\"T_db8a5_row5_col2\" class=\"data row5 col2\" >73,056,061</td>\n",
       "    </tr>\n",
       "    <tr>\n",
       "      <th id=\"T_db8a5_level0_row6\" class=\"row_heading level0 row6\" >6</th>\n",
       "      <td id=\"T_db8a5_row6_col0\" class=\"data row6 col0\" >2000-12-31 00:00:00</td>\n",
       "      <td id=\"T_db8a5_row6_col1\" class=\"data row6 col1\" >35,689,245</td>\n",
       "      <td id=\"T_db8a5_row6_col2\" class=\"data row6 col2\" >85,816,549</td>\n",
       "    </tr>\n",
       "    <tr>\n",
       "      <th id=\"T_db8a5_level0_row7\" class=\"row_heading level0 row7\" >7</th>\n",
       "      <td id=\"T_db8a5_row7_col0\" class=\"data row7 col0\" >2005-12-31 00:00:00</td>\n",
       "      <td id=\"T_db8a5_row7_col1\" class=\"data row7 col1\" >29,797,432</td>\n",
       "      <td id=\"T_db8a5_row7_col2\" class=\"data row7 col2\" >73,548,310</td>\n",
       "    </tr>\n",
       "    <tr>\n",
       "      <th id=\"T_db8a5_level0_row8\" class=\"row_heading level0 row8\" >8</th>\n",
       "      <td id=\"T_db8a5_row8_col0\" class=\"data row8 col0\" >2010-12-31 00:00:00</td>\n",
       "      <td id=\"T_db8a5_row8_col1\" class=\"data row8 col1\" >27,563,813</td>\n",
       "      <td id=\"T_db8a5_row8_col2\" class=\"data row8 col2\" >77,919,043</td>\n",
       "    </tr>\n",
       "    <tr>\n",
       "      <th id=\"T_db8a5_level0_row9\" class=\"row_heading level0 row9\" >9</th>\n",
       "      <td id=\"T_db8a5_row9_col0\" class=\"data row9 col0\" >2015-12-31 00:00:00</td>\n",
       "      <td id=\"T_db8a5_row9_col1\" class=\"data row9 col1\" >nan</td>\n",
       "      <td id=\"T_db8a5_row9_col2\" class=\"data row9 col2\" >nan</td>\n",
       "    </tr>\n",
       "  </tbody>\n",
       "</table>\n"
      ],
      "text/plain": [
       "<pandas.io.formats.style.Styler at 0x2069140d4c0>"
      ]
     },
     "execution_count": 27,
     "metadata": {},
     "output_type": "execute_result"
    },
    {
     "data": {
      "image/png": "[encoded data removed]",
      "text/plain": [
       "<Figure size 500x500 with 1 Axes>"
      ]
     },
     "metadata": {},
     "output_type": "display_data"
    }
   ],
   "source": [
    "#ploting a scatter plot between revenue and budget\n",
    "sns.lmplot(x='budget', y= 'revenue', data = df_budget)\n",
    "cor = stats.pearsonr(df_budget['budget'], df_budget['revenue'])\n",
    "\n",
    "\n",
    "df_average.style.format({'Average_mean':'{0:,.0f}','Average_revenue':'{0:,.0f}'})\n"
   ]
  },
  {
   "cell_type": "markdown",
   "id": "85eb3546",
   "metadata": {},
   "source": [
    "There is a strong positive relationship between budget and revenue, the variables are releated and interdependent, "
   ]
  },
  {
   "cell_type": "code",
   "execution_count": 28,
   "id": "c33d1405",
   "metadata": {
    "ExecuteTime": {
     "end_time": "2022-10-26T20:11:07.886574Z",
     "start_time": "2022-10-26T20:11:07.871553Z"
    }
   },
   "outputs": [
    {
     "data": {
      "text/plain": [
       "0"
      ]
     },
     "execution_count": 28,
     "metadata": {},
     "output_type": "execute_result"
    }
   ],
   "source": [
    "Am = df_budget['popularity'].isna().sum()\n",
    "Am"
   ]
  },
  {
   "cell_type": "code",
   "execution_count": 29,
   "id": "5fc874a7",
   "metadata": {
    "ExecuteTime": {
     "end_time": "2022-10-26T20:11:08.021543Z",
     "start_time": "2022-10-26T20:11:07.906550Z"
    }
   },
   "outputs": [
    {
     "name": "stderr",
     "output_type": "stream",
     "text": [
      "C:\\Users\\hp\\AppData\\Local\\Temp\\ipykernel_10184\\721177544.py:4: FutureWarning: Value based partial slicing on non-monotonic DatetimeIndexes with non-existing keys is deprecated and will raise a KeyError in a future Version.\n",
      "  ilist = df_budget[A[i]:B[i]]['popularity'].mean()\n"
     ]
    }
   ],
   "source": [
    "# The Average popularity voted by viewers at 5 year intervaLs\n",
    "popularity_list = []    #List to Hold the mean Values\n",
    "for i in range(10): \n",
    "    ilist = df_budget[A[i]:B[i]]['popularity'].mean()\n",
    "    popularity_list.append(ilist) #get the mean budget for a certain time period"
   ]
  },
  {
   "cell_type": "code",
   "execution_count": 30,
   "id": "a5d1a07e",
   "metadata": {
    "ExecuteTime": {
     "end_time": "2022-10-26T20:11:08.086558Z",
     "start_time": "2022-10-26T20:11:08.026543Z"
    }
   },
   "outputs": [],
   "source": [
    "_pop = {\n",
    "    'Dates': A,\n",
    "    'Ratings': popularity_list\n",
    "}"
   ]
  },
  {
   "cell_type": "code",
   "execution_count": 31,
   "id": "e62a1508",
   "metadata": {
    "ExecuteTime": {
     "end_time": "2022-10-26T20:11:08.621509Z",
     "start_time": "2022-10-26T20:11:08.091540Z"
    },
    "scrolled": true
   },
   "outputs": [
    {
     "data": {
      "text/html": [
       "<div>\n",
       "<style scoped>\n",
       "    .dataframe tbody tr th:only-of-type {\n",
       "        vertical-align: middle;\n",
       "    }\n",
       "\n",
       "    .dataframe tbody tr th {\n",
       "        vertical-align: top;\n",
       "    }\n",
       "\n",
       "    .dataframe thead th {\n",
       "        text-align: right;\n",
       "    }\n",
       "</style>\n",
       "<table border=\"1\" class=\"dataframe\">\n",
       "  <thead>\n",
       "    <tr style=\"text-align: right;\">\n",
       "      <th></th>\n",
       "      <th>Dates</th>\n",
       "      <th>Ratings</th>\n",
       "    </tr>\n",
       "  </thead>\n",
       "  <tbody>\n",
       "    <tr>\n",
       "      <th>0</th>\n",
       "      <td>1970-12-31</td>\n",
       "      <td>0.681437</td>\n",
       "    </tr>\n",
       "    <tr>\n",
       "      <th>1</th>\n",
       "      <td>1975-12-31</td>\n",
       "      <td>0.762003</td>\n",
       "    </tr>\n",
       "    <tr>\n",
       "      <th>2</th>\n",
       "      <td>1980-12-31</td>\n",
       "      <td>0.675679</td>\n",
       "    </tr>\n",
       "    <tr>\n",
       "      <th>3</th>\n",
       "      <td>1985-12-31</td>\n",
       "      <td>0.630108</td>\n",
       "    </tr>\n",
       "    <tr>\n",
       "      <th>4</th>\n",
       "      <td>1990-12-31</td>\n",
       "      <td>0.709654</td>\n",
       "    </tr>\n",
       "    <tr>\n",
       "      <th>5</th>\n",
       "      <td>1995-12-31</td>\n",
       "      <td>0.798216</td>\n",
       "    </tr>\n",
       "    <tr>\n",
       "      <th>6</th>\n",
       "      <td>2000-12-31</td>\n",
       "      <td>0.933471</td>\n",
       "    </tr>\n",
       "    <tr>\n",
       "      <th>7</th>\n",
       "      <td>2005-12-31</td>\n",
       "      <td>0.831886</td>\n",
       "    </tr>\n",
       "    <tr>\n",
       "      <th>8</th>\n",
       "      <td>2010-12-31</td>\n",
       "      <td>1.113150</td>\n",
       "    </tr>\n",
       "    <tr>\n",
       "      <th>9</th>\n",
       "      <td>2015-12-31</td>\n",
       "      <td>NaN</td>\n",
       "    </tr>\n",
       "  </tbody>\n",
       "</table>\n",
       "</div>"
      ],
      "text/plain": [
       "        Dates   Ratings\n",
       "0  1970-12-31  0.681437\n",
       "1  1975-12-31  0.762003\n",
       "2  1980-12-31  0.675679\n",
       "3  1985-12-31  0.630108\n",
       "4  1990-12-31  0.709654\n",
       "5  1995-12-31  0.798216\n",
       "6  2000-12-31  0.933471\n",
       "7  2005-12-31  0.831886\n",
       "8  2010-12-31  1.113150\n",
       "9  2015-12-31       NaN"
      ]
     },
     "execution_count": 31,
     "metadata": {},
     "output_type": "execute_result"
    },
    {
     "data": {
      "image/png": "[encoded data removed]",
      "text/plain": [
       "<Figure size 800x550 with 1 Axes>"
      ]
     },
     "metadata": {},
     "output_type": "display_data"
    }
   ],
   "source": [
    "fig , ax = plt.subplots();\n",
    "ax.plot_date(_AT, popularity_list, linestyle = '--');\n",
    "plt.xticks(rotation = 70);\n",
    "ax.set_title(' Average Popularity over Time ');\n",
    "ax.set_ylabel('Popularity');\n",
    "ax.set_xlabel('Time');\n",
    "pd.DataFrame(_pop)"
   ]
  },
  {
   "cell_type": "markdown",
   "id": "53d68b46",
   "metadata": {},
   "source": [
    "This Chart measure the average ppularity of movies at a 5 year interval, with movies ratings having an upward trend with tim, with an all time high at 2010   "
   ]
  },
  {
   "cell_type": "code",
   "execution_count": 32,
   "id": "7b74e920",
   "metadata": {
    "ExecuteTime": {
     "end_time": "2022-10-26T20:11:08.636509Z",
     "start_time": "2022-10-26T20:11:08.626507Z"
    }
   },
   "outputs": [],
   "source": [
    "_pop1 = {\n",
    "    'Dates': A,\n",
    "    'Ratings': popularity_list,\n",
    "    'Average_revenue' : revenue_list\n",
    "}"
   ]
  },
  {
   "cell_type": "code",
   "execution_count": 53,
   "id": "8b2a3ab3",
   "metadata": {
    "ExecuteTime": {
     "end_time": "2022-10-26T21:02:22.127753Z",
     "start_time": "2022-10-26T21:02:21.386649Z"
    }
   },
   "outputs": [
    {
     "data": {
      "text/html": [
       "<style type=\"text/css\">\n",
       "</style>\n",
       "<table id=\"T_d29cf\">\n",
       "  <thead>\n",
       "    <tr>\n",
       "      <th class=\"blank level0\" >&nbsp;</th>\n",
       "      <th id=\"T_d29cf_level0_col0\" class=\"col_heading level0 col0\" >Dates</th>\n",
       "      <th id=\"T_d29cf_level0_col1\" class=\"col_heading level0 col1\" >Ratings</th>\n",
       "      <th id=\"T_d29cf_level0_col2\" class=\"col_heading level0 col2\" >Average_revenue</th>\n",
       "    </tr>\n",
       "  </thead>\n",
       "  <tbody>\n",
       "    <tr>\n",
       "      <th id=\"T_d29cf_level0_row0\" class=\"row_heading level0 row0\" >0</th>\n",
       "      <td id=\"T_d29cf_row0_col0\" class=\"data row0 col0\" >1970-12-31</td>\n",
       "      <td id=\"T_d29cf_row0_col1\" class=\"data row0 col1\" >0.681437</td>\n",
       "      <td id=\"T_d29cf_row0_col2\" class=\"data row0 col2\" >37,779,867</td>\n",
       "    </tr>\n",
       "    <tr>\n",
       "      <th id=\"T_d29cf_level0_row1\" class=\"row_heading level0 row1\" >1</th>\n",
       "      <td id=\"T_d29cf_row1_col0\" class=\"data row1 col0\" >1975-12-31</td>\n",
       "      <td id=\"T_d29cf_row1_col1\" class=\"data row1 col1\" >0.762003</td>\n",
       "      <td id=\"T_d29cf_row1_col2\" class=\"data row1 col2\" >50,724,062</td>\n",
       "    </tr>\n",
       "    <tr>\n",
       "      <th id=\"T_d29cf_level0_row2\" class=\"row_heading level0 row2\" >2</th>\n",
       "      <td id=\"T_d29cf_row2_col0\" class=\"data row2 col0\" >1980-12-31</td>\n",
       "      <td id=\"T_d29cf_row2_col1\" class=\"data row2 col1\" >0.675679</td>\n",
       "      <td id=\"T_d29cf_row2_col2\" class=\"data row2 col2\" >40,423,365</td>\n",
       "    </tr>\n",
       "    <tr>\n",
       "      <th id=\"T_d29cf_level0_row3\" class=\"row_heading level0 row3\" >3</th>\n",
       "      <td id=\"T_d29cf_row3_col0\" class=\"data row3 col0\" >1985-12-31</td>\n",
       "      <td id=\"T_d29cf_row3_col1\" class=\"data row3 col1\" >0.630108</td>\n",
       "      <td id=\"T_d29cf_row3_col2\" class=\"data row3 col2\" >43,539,257</td>\n",
       "    </tr>\n",
       "    <tr>\n",
       "      <th id=\"T_d29cf_level0_row4\" class=\"row_heading level0 row4\" >4</th>\n",
       "      <td id=\"T_d29cf_row4_col0\" class=\"data row4 col0\" >1990-12-31</td>\n",
       "      <td id=\"T_d29cf_row4_col1\" class=\"data row4 col1\" >0.709654</td>\n",
       "      <td id=\"T_d29cf_row4_col2\" class=\"data row4 col2\" >60,573,984</td>\n",
       "    </tr>\n",
       "    <tr>\n",
       "      <th id=\"T_d29cf_level0_row5\" class=\"row_heading level0 row5\" >5</th>\n",
       "      <td id=\"T_d29cf_row5_col0\" class=\"data row5 col0\" >1995-12-31</td>\n",
       "      <td id=\"T_d29cf_row5_col1\" class=\"data row5 col1\" >0.798216</td>\n",
       "      <td id=\"T_d29cf_row5_col2\" class=\"data row5 col2\" >73,056,061</td>\n",
       "    </tr>\n",
       "    <tr>\n",
       "      <th id=\"T_d29cf_level0_row6\" class=\"row_heading level0 row6\" >6</th>\n",
       "      <td id=\"T_d29cf_row6_col0\" class=\"data row6 col0\" >2000-12-31</td>\n",
       "      <td id=\"T_d29cf_row6_col1\" class=\"data row6 col1\" >0.933471</td>\n",
       "      <td id=\"T_d29cf_row6_col2\" class=\"data row6 col2\" >85,816,549</td>\n",
       "    </tr>\n",
       "    <tr>\n",
       "      <th id=\"T_d29cf_level0_row7\" class=\"row_heading level0 row7\" >7</th>\n",
       "      <td id=\"T_d29cf_row7_col0\" class=\"data row7 col0\" >2005-12-31</td>\n",
       "      <td id=\"T_d29cf_row7_col1\" class=\"data row7 col1\" >0.831886</td>\n",
       "      <td id=\"T_d29cf_row7_col2\" class=\"data row7 col2\" >73,548,310</td>\n",
       "    </tr>\n",
       "    <tr>\n",
       "      <th id=\"T_d29cf_level0_row8\" class=\"row_heading level0 row8\" >8</th>\n",
       "      <td id=\"T_d29cf_row8_col0\" class=\"data row8 col0\" >2010-12-31</td>\n",
       "      <td id=\"T_d29cf_row8_col1\" class=\"data row8 col1\" >1.113150</td>\n",
       "      <td id=\"T_d29cf_row8_col2\" class=\"data row8 col2\" >77,919,043</td>\n",
       "    </tr>\n",
       "    <tr>\n",
       "      <th id=\"T_d29cf_level0_row9\" class=\"row_heading level0 row9\" >9</th>\n",
       "      <td id=\"T_d29cf_row9_col0\" class=\"data row9 col0\" >2015-12-31</td>\n",
       "      <td id=\"T_d29cf_row9_col1\" class=\"data row9 col1\" >nan</td>\n",
       "      <td id=\"T_d29cf_row9_col2\" class=\"data row9 col2\" >nan</td>\n",
       "    </tr>\n",
       "  </tbody>\n",
       "</table>\n"
      ],
      "text/plain": [
       "<pandas.io.formats.style.Styler at 0x20691bfd6a0>"
      ]
     },
     "execution_count": 53,
     "metadata": {},
     "output_type": "execute_result"
    },
    {
     "data": {
      "image/png": "[encoded data removed]",
      "text/plain": [
       "<Figure size 800x1000 with 2 Axes>"
      ]
     },
     "metadata": {},
     "output_type": "display_data"
    }
   ],
   "source": [
    "#Creating a subplots object\n",
    "fig, (ax, ax1) = plt.subplots(nrows = 2, ncols = 1);\n",
    "ax.plot_date(_AT, popularity_list, linestyle = '--');\n",
    "ax1.plot_date(_AT, revenue_list, linestyle = '-')\n",
    "\n",
    "#setting the figure size\n",
    "fig.set_figheight(10)\n",
    "fig.set_figwidth(8)\n",
    "\n",
    "#fig 1 title and labels\n",
    "ax.set_title(' Average Popularity over Time ');\n",
    "ax.set_ylabel('Popularity');\n",
    "\n",
    "#fig 2 title and labels\n",
    "ax1.set_title(' Average Revenue over Time ');\n",
    "ax1.set_ylabel('Revenue');\n",
    "ax1.set_xlabel('Time');\n",
    "ax1.yaxis.set_major_formatter(\n",
    "    plt.FuncFormatter(format_number1));\n",
    "\n",
    "\n",
    "#Tables\n",
    "pd.DataFrame(_pop1).style.format({'Average_revenue': '{0:,.0f}'})"
   ]
  },
  {
   "cell_type": "markdown",
   "id": "bffe0114",
   "metadata": {},
   "source": [
    "This Chart measure the average ppularity of movies at a 5 year interval, with movies ratings having an upward trend with time, popularity and revenue   "
   ]
  },
  {
   "cell_type": "code",
   "execution_count": 34,
   "id": "0b073fe1",
   "metadata": {
    "ExecuteTime": {
     "end_time": "2022-10-26T20:11:10.921369Z",
     "start_time": "2022-10-26T20:11:09.651444Z"
    },
    "scrolled": true
   },
   "outputs": [
    {
     "name": "stdout",
     "output_type": "stream",
     "text": [
      "PearsonRResult(statistic=0.6432490192352093, pvalue=0.0)\n"
     ]
    },
    {
     "data": {
      "image/png": "[encoded data removed]",
      "text/plain": [
       "<Figure size 500x500 with 1 Axes>"
      ]
     },
     "metadata": {},
     "output_type": "display_data"
    }
   ],
   "source": [
    "#does a corolation exist between popularity and budget\n",
    "sns.lmplot(x= 'revenue', y= 'popularity', data = df_budget )\n",
    "cor = stats.pearsonr(df_budget['revenue'], df_budget['popularity'])\n",
    "print(cor)"
   ]
  },
  {
   "cell_type": "markdown",
   "id": "b1e8397d",
   "metadata": {},
   "source": [
    "There is a positive relationship between popularity and Budget, the variables are releated and interdependent, but corelation does not mean causality. The popularity of a movie has an effect on the revenue genrated"
   ]
  },
  {
   "cell_type": "markdown",
   "id": "833ad0f7",
   "metadata": {},
   "source": [
    "## Research Question 2\n",
    ">What Genre of movie is the most popular movie genre."
   ]
  },
  {
   "cell_type": "markdown",
   "id": "1fe652a0",
   "metadata": {},
   "source": [
    "Several movies occurs over multiple genre, for this analysis the genre's will be seperated into individual rows in the Dataframe, each genre will ne grouped togther and the total counts  of each genere wil be calulated. A new dataframe will be create combining all the individual genre rows \n"
   ]
  },
  {
   "cell_type": "code",
   "execution_count": 35,
   "id": "9f09c6e5",
   "metadata": {
    "ExecuteTime": {
     "end_time": "2022-10-26T20:11:10.951367Z",
     "start_time": "2022-10-26T20:11:10.931369Z"
    }
   },
   "outputs": [],
   "source": [
    "df_budget.reset_index(inplace = True)"
   ]
  },
  {
   "cell_type": "code",
   "execution_count": 36,
   "id": "7e77d192",
   "metadata": {
    "ExecuteTime": {
     "end_time": "2022-10-26T20:11:11.111363Z",
     "start_time": "2022-10-26T20:11:10.966367Z"
    }
   },
   "outputs": [],
   "source": [
    "#creating Dataframes for each new genre\n",
    "df1 =df_budget.copy()\n",
    "df2 =df_budget.copy()\n",
    "df3 =df_budget.copy()\n",
    "df4 =df_budget.copy()\n",
    "df5 =df_budget.copy()\n",
    "df6 =df_budget.copy()\n",
    "\n"
   ]
  },
  {
   "cell_type": "code",
   "execution_count": 37,
   "id": "cf9b6e22",
   "metadata": {
    "ExecuteTime": {
     "end_time": "2022-10-26T20:11:11.291421Z",
     "start_time": "2022-10-26T20:11:11.116357Z"
    },
    "scrolled": true
   },
   "outputs": [],
   "source": [
    "#Spliting the genre into different columns\n",
    "df1['genres'] =df_budget['genres'].str.split('|').str.get(0)\n",
    "df2['genres'] =df_budget['genres'].str.split('|').str.get(1)\n",
    "df3['genres'] =df_budget['genres'].str.split('|').str.get(2)\n",
    "df4['genres'] =df_budget['genres'].str.split('|').str.get(3)\n",
    "df5['genres'] =df_budget['genres'].str.split('|').str.get(4)\n",
    "df6['genres'] =df_budget['genres'].str.split('|').str.get(5)\n",
    "\n",
    "#checking for the movies with the most genre \n",
    "\n",
    "#converting to list to numpy array"
   ]
  },
  {
   "cell_type": "code",
   "execution_count": 38,
   "id": "eae4b6e0",
   "metadata": {
    "ExecuteTime": {
     "end_time": "2022-10-26T20:11:11.351381Z",
     "start_time": "2022-10-26T20:11:11.296349Z"
    }
   },
   "outputs": [],
   "source": [
    "#Concat the  dataFrames \n",
    "df_budget = pd.concat([df1,df2,df3,df4,df5,df6], ignore_index = True)"
   ]
  },
  {
   "cell_type": "code",
   "execution_count": 39,
   "id": "095a6dd3",
   "metadata": {
    "ExecuteTime": {
     "end_time": "2022-10-26T20:11:11.481340Z",
     "start_time": "2022-10-26T20:11:11.351381Z"
    }
   },
   "outputs": [
    {
     "data": {
      "text/plain": [
       "21023"
      ]
     },
     "execution_count": 39,
     "metadata": {},
     "output_type": "execute_result"
    }
   ],
   "source": [
    "#filter for null values in the genre coloumn\n",
    "df_budget['genres'].isna().sum()\n"
   ]
  },
  {
   "cell_type": "code",
   "execution_count": 40,
   "id": "7188a8bf",
   "metadata": {
    "ExecuteTime": {
     "end_time": "2022-10-26T20:11:11.576412Z",
     "start_time": "2022-10-26T20:11:11.491342Z"
    }
   },
   "outputs": [],
   "source": [
    "#investigate null values\n",
    "filt4 = df_budget['genres'].isna()"
   ]
  },
  {
   "cell_type": "code",
   "execution_count": 41,
   "id": "757f5220",
   "metadata": {
    "ExecuteTime": {
     "end_time": "2022-10-26T20:11:11.771357Z",
     "start_time": "2022-10-26T20:11:11.581329Z"
    }
   },
   "outputs": [],
   "source": [
    "#dropping empty rows\n",
    "df_budget.drop(index = df_budget[filt4].index, inplace = True)"
   ]
  },
  {
   "cell_type": "code",
   "execution_count": 42,
   "id": "92b8a897",
   "metadata": {
    "ExecuteTime": {
     "end_time": "2022-10-26T20:11:11.896310Z",
     "start_time": "2022-10-26T20:11:11.771357Z"
    }
   },
   "outputs": [],
   "source": [
    "# Extracting the values from the dataframe to plot\n",
    "df_genre = df_budget['genres'].value_counts().head(5)\n",
    "#creating a new dataframe 'df_pie'\n"
   ]
  },
  {
   "cell_type": "code",
   "execution_count": 43,
   "id": "1a3e119a",
   "metadata": {
    "ExecuteTime": {
     "end_time": "2022-10-26T20:11:12.021307Z",
     "start_time": "2022-10-26T20:11:11.901312Z"
    }
   },
   "outputs": [],
   "source": [
    "df_genre = pd.DataFrame(df_genre)\n"
   ]
  },
  {
   "cell_type": "code",
   "execution_count": 44,
   "id": "83783ef2",
   "metadata": {
    "ExecuteTime": {
     "end_time": "2022-10-26T20:11:12.192130Z",
     "start_time": "2022-10-26T20:11:12.026304Z"
    }
   },
   "outputs": [],
   "source": [
    "#reseting the index\n",
    "df_genre.reset_index(inplace = True)"
   ]
  },
  {
   "cell_type": "code",
   "execution_count": 45,
   "id": "b94acf76",
   "metadata": {
    "ExecuteTime": {
     "end_time": "2022-10-26T20:11:12.292062Z",
     "start_time": "2022-10-26T20:11:12.197059Z"
    }
   },
   "outputs": [],
   "source": [
    "#renaming the data_frame columns\n",
    "df_genre.rename(columns = {'index' : 'genres', 'genres': 'count'}, inplace = True)"
   ]
  },
  {
   "cell_type": "code",
   "execution_count": 46,
   "id": "be120be3",
   "metadata": {
    "ExecuteTime": {
     "end_time": "2022-10-26T20:11:12.452115Z",
     "start_time": "2022-10-26T20:11:12.297051Z"
    }
   },
   "outputs": [],
   "source": [
    "#ploting the bar Chart\n",
    "categories = df_genre['genres'].tolist()\n",
    "count = df_genre['count'].tolist()"
   ]
  },
  {
   "cell_type": "code",
   "execution_count": 47,
   "id": "66e4afad",
   "metadata": {
    "ExecuteTime": {
     "end_time": "2022-10-26T20:11:12.942011Z",
     "start_time": "2022-10-26T20:11:12.452115Z"
    },
    "scrolled": true
   },
   "outputs": [
    {
     "ename": "NameError",
     "evalue": "name 'df_pie' is not defined",
     "output_type": "error",
     "traceback": [
      "\u001b[1;31m---------------------------------------------------------------------------\u001b[0m",
      "\u001b[1;31mNameError\u001b[0m                                 Traceback (most recent call last)",
      "Cell \u001b[1;32mIn [47], line 3\u001b[0m\n\u001b[0;32m      1\u001b[0m plt\u001b[38;5;241m.\u001b[39mbar(categories,count);\n\u001b[0;32m      2\u001b[0m plt\u001b[38;5;241m.\u001b[39mtight_layout()\n\u001b[1;32m----> 3\u001b[0m \u001b[43mdf_pie\u001b[49m\u001b[38;5;241m.\u001b[39mhead(\u001b[38;5;241m5\u001b[39m)\n",
      "\u001b[1;31mNameError\u001b[0m: name 'df_pie' is not defined"
     ]
    },
    {
     "data": {
      "image/png": "[encoded data removed]",
      "text/plain": [
       "<Figure size 800x550 with 1 Axes>"
      ]
     },
     "metadata": {},
     "output_type": "display_data"
    }
   ],
   "source": [
    "plt.bar(categories,count);\n",
    "plt.tight_layout()\n",
    "df_pie.head(5)"
   ]
  },
  {
   "cell_type": "markdown",
   "id": "65876064",
   "metadata": {},
   "source": [
    "> The most Pouplar Tv genre is the Drama Genre, with it being a part in over 2000 movies"
   ]
  },
  {
   "cell_type": "markdown",
   "id": "849b9b11",
   "metadata": {},
   "source": [
    "# Conclusion"
   ]
  },
  {
   "cell_type": "markdown",
   "id": "c4cd2179",
   "metadata": {},
   "source": [
    ">1. The budget for movies, is postively correlated to the revnue, there is an upward trend over the time period of 1970 - 2010, this trend in budget expendure is reflected by an increase in revenue\n",
    "\n",
    ">2. Popularity and movie revenue are dependent on each other with a correlational value of 0.64, more popular movies seem to generate more revenue, but there isnt a direct relation ship between budget and popularity. But causation does not imply correlation\n",
    "\n",
    ">3. Movies genre is seems to be a very important factor in movie revenue, over the time period the movie genre with the highest frequency is 'Drama\n",
    "\n",
    "## Limitations\n",
    "\n",
    ">1. The budget and Revenue data are heavily skwed which an effect of the average and mean of budget and revenue over time.\n",
    "\n",
    ">2. The dataset had a lot of missing entries from 2020 - 2060 limiting the scope of thiS analysis\n",
    "\n",
    "\n",
    "\n"
   ]
  },
  {
   "cell_type": "code",
   "execution_count": null,
   "id": "c9dbe932",
   "metadata": {},
   "outputs": [],
   "source": []
  }
 ],
 "metadata": {
  "hide_input": false,
  "kernelspec": {
   "display_name": "Python 3 (ipykernel)",
   "language": "python",
   "name": "python3"
  },
  "language_info": {
   "codemirror_mode": {
    "name": "ipython",
    "version": 3
   },
   "file_extension": ".py",
   "mimetype": "text/x-python",
   "name": "python",
   "nbconvert_exporter": "python",
   "pygments_lexer": "ipython3",
   "version": "3.9.7"
  },
  "toc": {
   "base_numbering": 1,
   "nav_menu": {},
   "number_sections": true,
   "sideBar": true,
   "skip_h1_title": false,
   "title_cell": "Table of Contents",
   "title_sidebar": "Contents",
   "toc_cell": false,
   "toc_position": {
    "height": "calc(100% - 180px)",
    "left": "10px",
    "top": "150px",
    "width": "231.312px"
   },
   "toc_section_display": true,
   "toc_window_display": true
  },
  "varInspector": {
   "cols": {
    "lenName": 16,
    "lenType": 16,
    "lenVar": 40
   },
   "kernels_config": {
    "python": {
     "delete_cmd_postfix": "",
     "delete_cmd_prefix": "del ",
     "library": "var_list.py",
     "varRefreshCmd": "print(var_dic_list())"
    },
    "r": {
     "delete_cmd_postfix": ") ",
     "delete_cmd_prefix": "rm(",
     "library": "var_list.r",
     "varRefreshCmd": "cat(var_dic_list()) "
    }
   },
   "types_to_exclude": [
    "module",
    "function",
    "builtin_function_or_method",
    "instance",
    "_Feature"
   ],
   "window_display": false
  }
 },
 "nbformat": 4,
 "nbformat_minor": 5
}
